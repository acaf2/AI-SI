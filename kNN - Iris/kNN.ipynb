{
 "cells": [
  {
   "cell_type": "code",
   "execution_count": 1,
   "metadata": {},
   "outputs": [],
   "source": [
    "import numpy as np\n",
    "import pandas as pd\n",
    "from scipy.spatial import distance\n",
    "\n",
    "dfCollumns = ['sepal length','sepal width', 'petal length', 'petal width','class']\n",
    "classes = ['Iris-setosa','Iris-versicolor','Iris-virginica']"
   ]
  },
  {
   "cell_type": "markdown",
   "metadata": {},
   "source": [
    "### Funcções auxiliares que serão usadas na execução"
   ]
  },
  {
   "cell_type": "code",
   "execution_count": 2,
   "metadata": {},
   "outputs": [],
   "source": [
    "def calculateDivision(len):\n",
    "    trainSize = round(0.75*len)\n",
    "    testSize = len - trainSize\n",
    "    return trainSize, testSize\n",
    "\n",
    "def getTrainTestData(df):\n",
    "    dfLen = len(df.index)\n",
    "    trainSize, testSize = calculateDivision(dfLen)\n",
    "    \n",
    "    trainDf = df[0:trainSize-1].reset_index(drop = True)\n",
    "    testDf = df[trainSize:dfLen].reset_index(drop = True)\n",
    "    \n",
    "    return trainDf, testDf\n",
    "\n",
    "def getXY(df, dfCollumns):\n",
    "    dfx = df[dfCollumns[0:len(dfCollumns) - 1]]\n",
    "    dfy = df[[dfCollumns[-1]]]\n",
    "    \n",
    "    return dfx, dfy\n",
    "\n",
    "def getFirstElement(list, index=0):\n",
    "      return list[index]\n",
    "\n",
    "def kNN(k, train, testElement, classes):\n",
    "    trainX, trainY = getXY(train, dfCollumns)\n",
    "    \n",
    "    #testTuple = testElement.values.tolist()\n",
    "    tuples = trainX.values.tolist()\n",
    "    \n",
    "    distances = []\n",
    "    i = 0\n",
    "    for dot in tuples:\n",
    "        dist = np.linalg.norm(np.array(dot)-np.array(testElement))\n",
    "        distances.append([dist, i])\n",
    "        i=i+1\n",
    "    \n",
    "    distances.sort(key=getFirstElement)\n",
    "    kdistances = distances[0:k]\n",
    "    \n",
    "    votes = [0] * len(classes)\n",
    "    \n",
    "    for x in kdistances:        \n",
    "        currClass = trainY.loc[x[1],'class']\n",
    "        curr = classes.index(currClass)\n",
    "        votes[curr] = votes[curr]+1\n",
    "\n",
    "    return classes[votes.index(max(votes))]"
   ]
  },
  {
   "cell_type": "code",
   "execution_count": 3,
   "metadata": {},
   "outputs": [],
   "source": [
    "df = pd.read_csv('Data/iris.data', sep=\",\", names=dfCollumns)\n",
    "df = df.sample(frac=1).reset_index(drop=True)"
   ]
  },
  {
   "cell_type": "code",
   "execution_count": 4,
   "metadata": {},
   "outputs": [],
   "source": [
    "train, test = getTrainTestData(df)\n",
    "\n",
    "trainX, trainY = getXY(train, dfCollumns)\n",
    "testX, testY = getXY(test, dfCollumns)"
   ]
  },
  {
   "cell_type": "code",
   "execution_count": 5,
   "metadata": {},
   "outputs": [
    {
     "name": "stdout",
     "output_type": "stream",
     "text": [
      "Para K igual a 1\n",
      "Acuracia:  0.9473684210526315\n",
      "Para K igual a 3\n",
      "Acuracia:  0.9473684210526315\n",
      "Para K igual a 5\n",
      "Acuracia:  0.9736842105263158\n",
      "Para K igual a 7\n",
      "Acuracia:  0.9736842105263158\n",
      "Para K igual a 9\n",
      "Acuracia:  0.9473684210526315\n"
     ]
    }
   ],
   "source": [
    "listofk = [1, 3, 5, 7, 9]\n",
    "\n",
    "for k in listofk:\n",
    "    print('Para K igual a', k) \n",
    "    testList = testX.values.tolist()\n",
    "    testResultList = testY['class'].values.tolist()\n",
    "    i = 0\n",
    "    erros = 0\n",
    "    for row in testList:\n",
    "        result = kNN(k, train, row, classes)\n",
    "        #print('Certo: '+ testResultList[i]  + ' - Predito: ' + result)\n",
    "        if(testResultList[i] != result):\n",
    "            erros = erros + 1\n",
    "        i=i+1\n",
    "    print('Acuracia: ', (len(testResultList)-erros)/len(testResultList))\n",
    "\n",
    "\n"
   ]
  }
 ],
 "metadata": {
  "kernelspec": {
   "display_name": "Python 3",
   "language": "python",
   "name": "python3"
  },
  "language_info": {
   "codemirror_mode": {
    "name": "ipython",
    "version": 3
   },
   "file_extension": ".py",
   "mimetype": "text/x-python",
   "name": "python",
   "nbconvert_exporter": "python",
   "pygments_lexer": "ipython3",
   "version": "3.8.5"
  }
 },
 "nbformat": 4,
 "nbformat_minor": 4
}
