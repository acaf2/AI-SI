{
 "cells": [
  {
   "cell_type": "markdown",
   "metadata": {},
   "source": [
    "## Implementação do Perceptron para classificar tipo de flores\n",
    "\n",
    "2) Parte 1: Perceptron.\n",
    "\n",
    "2.1 Executar as implementações (scikit learn) desta página: https://towardsdatascience.com/perceptron-explanation-implementation-and-a-visual-example-3c8e76b4e2d1\n",
    "\n",
    "2.2 Gerar uma versão binária da base de dados iris (que vocês já usaram na atividade anterior, com kNN. Vocês já devem ter separado os conjuntos em treinamento e teste https://archive.ics.uci.edu/ml/datasets/iris). A versão binária, vai ter apenas as classes Setosa e Versicolor. A outra classe deve ser eliminada. Além disso, cortar dois atributos para que base fique 2D (ou seja, com apenas duas entradas). Portanto, a base de dados terá apenas duas entradas, sepal length e petal length. Isso deve ser feito tanto no conjunto de treinamento quanto no de teste. Plotar as duas bases separadamente (treinamento e teste) e dizer se elas são linearmente separáveis ou não. Treinar o perceptron na base de treinamento e testar na base de testes."
   ]
  },
  {
   "cell_type": "code",
   "execution_count": 1,
   "metadata": {},
   "outputs": [],
   "source": [
    "import numpy as np\n",
    "import pandas as pd\n",
    "from sklearn import datasets\n",
    "import matplotlib.pyplot as plt"
   ]
  },
  {
   "cell_type": "markdown",
   "metadata": {},
   "source": [
    "### Implementação do Perceptron do towardsdatascience.com"
   ]
  },
  {
   "cell_type": "code",
   "execution_count": 2,
   "metadata": {},
   "outputs": [],
   "source": [
    "def fit(self, X, y, n_iter=100):\n",
    "\n",
    "    n_samples = X.shape[0]\n",
    "    n_features = X.shape[1]\n",
    "\n",
    "    # Add 1 for the bias term\n",
    "    self.weights = np.zeros((n_features+1,))\n",
    "\n",
    "    # Add column of 1s\n",
    "    X = np.concatenate([X, np.ones((n_samples, 1))], axis=1)\n",
    "\n",
    "    for i in range(n_iter):\n",
    "        for j in range(n_samples):\n",
    "            if y[j]*np.dot(self.weights, X[j, :]) <= 0:\n",
    "                self.weights += y[j]*X[j, :]\n",
    "\n",
    "def predict(self, X):\n",
    "    if not hasattr(self, 'weights'):\n",
    "        print('The model is not trained yet!')\n",
    "        return\n",
    "\n",
    "    n_samples = X.shape[0]\n",
    "    # Add column of 1s\n",
    "    X = np.concatenate([X, np.ones((n_samples, 1))], axis=1)\n",
    "    y = np.matmul(X, self.weights)\n",
    "    y = np.vectorize(lambda val: 1 if val > 0 else -1)(y)\n",
    "\n",
    "    return y\n",
    "\n",
    "def score(self, X, y):\n",
    "    pred_y = self.predict(X)\n",
    "\n",
    "    return np.mean(y == pred_y)\n",
    "\n",
    "class Perceptron:    \n",
    "    def fit(self, X, y, n_iter=100):\n",
    "        \n",
    "        n_samples = X.shape[0]\n",
    "        n_features = X.shape[1]\n",
    "        \n",
    "        # Add 1 for the bias term\n",
    "        self.weights = np.zeros((n_features+1,))\n",
    "        \n",
    "        # Add column of 1s\n",
    "        X = np.concatenate([X, np.ones((n_samples, 1))], axis=1)\n",
    "        \n",
    "        for i in range(n_iter):\n",
    "            for j in range(n_samples):\n",
    "                if y[j]*np.dot(self.weights, X[j, :]) <= 0:\n",
    "                    self.weights += y[j]*X[j, :]\n",
    "    \n",
    "    def predict(self, X):\n",
    "        if not hasattr(self, 'weights'):\n",
    "            print('The model is not trained yet!')\n",
    "            return\n",
    "        \n",
    "        n_samples = X.shape[0]\n",
    "        # Add column of 1s\n",
    "        X = np.concatenate([X, np.ones((n_samples, 1))], axis=1)\n",
    "        y = np.matmul(X, self.weights)\n",
    "        y = np.vectorize(lambda val: 1 if val > 0 else -1)(y)\n",
    "        \n",
    "        return y\n",
    "    \n",
    "    def score(self, X, y):\n",
    "        pred_y = self.predict(X)\n",
    "        \n",
    "        return np.mean(y == pred_y)\n",
    "\n",
    "X, y = datasets.make_classification(\n",
    "    n_features=2,\n",
    "    n_classes=2,\n",
    "    n_samples=200,\n",
    "    n_redundant=0,\n",
    "    n_clusters_per_class=1\n",
    ")\n",
    "\n",
    "X, y = datasets.make_circles(n_samples=200, noise=0.03, factor=0.7)\n",
    "\n",
    "def polynom(indices_list, indices, a, b, p):\n",
    "    indices = [*indices]\n",
    "    if p == 0:\n",
    "        indices_list.append(indices)\n",
    "        return\n",
    "    for i in range(a, b):\n",
    "        indices.append(i)\n",
    "        polynom(indices_list, indices, i, b, p-1)\n",
    "        indices = indices[0:-1]\n",
    "\n",
    "def polynomial_features(X, p):\n",
    "    n, d = X.shape\n",
    "    features = []\n",
    "    for i in range(1, p+1):\n",
    "        l = []\n",
    "        polynom(l, [], 0, d, i)\n",
    "        for indices in l:\n",
    "            x = np.ones((n,))\n",
    "            for idx in indices:\n",
    "                x = x * X[:, idx]\n",
    "            features.append(x)\n",
    "    return np.stack(features, axis=1)\n",
    "\n",
    "X = polynomial_features(X, 2)"
   ]
  },
  {
   "cell_type": "markdown",
   "metadata": {},
   "source": [
    "### Inicialização do Dataframe e redução das classes e features"
   ]
  },
  {
   "cell_type": "code",
   "execution_count": 3,
   "metadata": {},
   "outputs": [],
   "source": [
    "dfCollumns = ['sepal length','sepal width', 'petal length', 'petal width','class']\n",
    "classes = ['Iris-setosa','Iris-versicolor','Iris-virginica']\n",
    "\n",
    "df = pd.read_csv('Data/iris.data', sep = \",\", names = dfCollumns)\n",
    "df = df[df['class'] != 'Iris-virginica'].drop(['sepal width', 'petal width'], axis = 1)\n",
    "\n",
    "setosa = df[df['class'] == 'Iris-setosa'].sample(frac=1).reset_index(drop=True)\n",
    "versicolor = df[df['class'] == 'Iris-versicolor'].sample(frac=1).reset_index(drop=True)\n",
    "\n",
    "test = pd.concat([setosa.loc[0:13, :],versicolor.loc[0:13,:]]).reset_index(drop = True)\n",
    "train = pd.concat([setosa.loc[13:49, :],versicolor.loc[13:49,:]]).reset_index(drop = True)\n",
    "\n",
    "trainX = train[['sepal length', 'petal length']].to_numpy()\n",
    "trainY = train['class'].to_numpy()\n",
    "\n",
    "testX = test[['sepal length', 'petal length']].to_numpy()\n",
    "testY = test['class'].to_numpy()"
   ]
  },
  {
   "cell_type": "markdown",
   "metadata": {},
   "source": [
    "### Plotting dos dados de testes e treinos divididos por classes"
   ]
  },
  {
   "cell_type": "code",
   "execution_count": 4,
   "metadata": {},
   "outputs": [
    {
     "data": {
      "image/png": "[encoded data removed]",
      "text/plain": [
       "<Figure size 432x288 with 1 Axes>"
      ]
     },
     "metadata": {
      "needs_background": "light"
     },
     "output_type": "display_data"
    }
   ],
   "source": [
    "fig = plt.figure()\n",
    "ax = fig.add_subplot(1, 1, 1)\n",
    "\n",
    "x = trainX[ : , 0]\n",
    "y = trainX[ : , 1]\n",
    "points = [0.7 if x == 'Iris-setosa' else 0.5 for x in trainY]\n",
    "color = points\n",
    "rgb = plt.get_cmap('jet')(color)\n",
    "ax.scatter(x, y, color = rgb)\n",
    "plt.show()"
   ]
  },
  {
   "cell_type": "code",
   "execution_count": 5,
   "metadata": {},
   "outputs": [
    {
     "data": {
      "image/png": "[encoded data removed]",
      "text/plain": [
       "<Figure size 432x288 with 1 Axes>"
      ]
     },
     "metadata": {
      "needs_background": "light"
     },
     "output_type": "display_data"
    }
   ],
   "source": [
    "fig = plt.figure()\n",
    "ax = fig.add_subplot(1, 1, 1)\n",
    "\n",
    "x = testX[ : , 0]\n",
    "y = testX[ : , 1]\n",
    "points = [0.7 if x == 'Iris-setosa' else 0.5 for x in testY]\n",
    "color = points\n",
    "rgb = plt.get_cmap('jet')(color)\n",
    "ax.scatter(x, y, color = rgb)\n",
    "plt.show()"
   ]
  },
  {
   "cell_type": "markdown",
   "metadata": {},
   "source": [
    "### Execução do treino e validação do modelo"
   ]
  },
  {
   "cell_type": "code",
   "execution_count": 6,
   "metadata": {},
   "outputs": [],
   "source": [
    "aux = [1 if x == 'Iris-setosa' else -1 for x in trainY]\n",
    "trainY = aux\n",
    "aux = [1 if x == 'Iris-setosa' else -1 for x in testY]\n",
    "testY = aux\n",
    "\n",
    "Neuron = Perceptron()"
   ]
  },
  {
   "cell_type": "code",
   "execution_count": 7,
   "metadata": {},
   "outputs": [
    {
     "name": "stdout",
     "output_type": "stream",
     "text": [
      "Pesos:  [ 3.  -6.8  1. ]\n",
      "Acurácia para Número de iterações 10 é 1.0\n"
     ]
    }
   ],
   "source": [
    "Neuron.fit(trainX, trainY, n_iter = 10)\n",
    "Neuron.predict(testX)\n",
    "score = Neuron.score(testX, testY)\n",
    "\n",
    "print(\"Pesos: \",Neuron.weights)\n",
    "print(\"Acurácia para Número de iterações 10 é\",score)"
   ]
  }
 ],
 "metadata": {
  "kernelspec": {
   "display_name": "Python 3",
   "language": "python",
   "name": "python3"
  },
  "language_info": {
   "codemirror_mode": {
    "name": "ipython",
    "version": 3
   },
   "file_extension": ".py",
   "mimetype": "text/x-python",
   "name": "python",
   "nbconvert_exporter": "python",
   "pygments_lexer": "ipython3",
   "version": "3.8.5"
  }
 },
 "nbformat": 4,
 "nbformat_minor": 4
}
